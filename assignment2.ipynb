{
 "cells": [
  {
   "cell_type": "markdown",
   "metadata": {},
   "source": [
    "Created the notebook from .py file using the p2j package, see here: https://stackoverflow.com/questions/23292242/converting-to-not-from-ipython-notebook-format"
   ]
  },
  {
   "cell_type": "code",
   "execution_count": null,
   "metadata": {},
   "outputs": [],
   "source": [
    "# -*- coding: utf-8 -*-\n",
    "\"\"\"\n",
    "Created on Fri Sep 17 09:41:10 2021"
   ]
  },
  {
   "cell_type": "code",
   "execution_count": null,
   "metadata": {},
   "outputs": [],
   "source": [
    "@author: ilq00444\n",
    "\"\"\""
   ]
  },
  {
   "cell_type": "markdown",
   "metadata": {},
   "source": [
    "\n",
    "<br>\n",
    "Problem 1 â€“ 15 pts: Calculate sum: function name should be calc_sum <br>\n",
    "You are given a list of numbers in python. Assume that the list consists of at least one number. <br>\n",
    "Write a python function that returns the sum of all these numbers. Be sure to write this function <br>\n",
    "using only python and not an external package, like NumPy.<br>\n",
    "Problem 2 â€“ 15 pts: Calculate the mean: calc_mean <br>\n",
    "You are given a list of numbers in python. Assume that the list consists of at least one number. <br>\n",
    "Write a python function that returns the mean of all these numbers. Be sure to write this function <br>\n",
    "using only python and not an external package, like NumPy. <br>\n",
    "Problem 3 â€“ 30 pts: Calculate the standard deviation: calc_std <br>\n",
    "You are given a list of numbers in python. Assume that the list consists of at least two numbers. <br>\n",
    "Write a python function that returns the sample standard deviation of all these numbers. Be sure <br>\n",
    "to write this function using only python and not an external package, like NumPy. Below is the <br>\n",
    "formula is the sample mean. are the data points in the python list/array. <br>\n",
    "N is the total number of points.<br>\n",
    "Problem 4 â€“ 10 pts: Calculate sum with NumPy: calc_sum_np <br>\n",
    "Write a function to compute the sum of a python list of numbers. Be free to use a NumPy <br>\n",
    "function within your custom function. Same assumptions for inputs as before. <br>\n",
    "Problem 5 â€“ 15 pts: Calculate mean with NumPy: calc_mean_np <br>\n",
    "Write a function to compute the mean of a python list of numbers. Be free to use a NumPy <br>\n",
    "function within your custom function. Same assumptions for inputs as before. <br>\n",
    "Problem 6 â€“ 15 pts: Calculate standard deviation with NumPy: calc_std_np <br>\n",
    "Write a function to compute the sum of a python list of numbers. Be free to use a NumPy <br>\n",
    "function within your custom function. Same assumptions for inputs as before.<br>\n"
   ]
  },
  {
   "cell_type": "code",
   "execution_count": null,
   "metadata": {},
   "outputs": [],
   "source": [
    "import functools\n",
    "import math\n",
    "import numpy as np"
   ]
  },
  {
   "cell_type": "markdown",
   "metadata": {},
   "source": [
    "As calc sum was the first assignment I wanted to look at different ways on how it can be implemented in Python"
   ]
  },
  {
   "cell_type": "code",
   "execution_count": null,
   "metadata": {},
   "outputs": [],
   "source": [
    "def calc_sum(list_of_numbers):\n",
    "    \n",
    "    # calc sum using 'for' loop, iterating over all elements in the list and adding to a 'sum' variable\n",
    "    sum = 0\n",
    "    for num in list_of_numbers:\n",
    "        sum += num\n",
    "    return sum\n",
    "    "
   ]
  },
  {
   "cell_type": "markdown",
   "metadata": {},
   "source": [
    "calc using recursion"
   ]
  },
  {
   "cell_type": "code",
   "execution_count": null,
   "metadata": {},
   "outputs": [],
   "source": [
    "def calc_sum(list_of_numbers):\n",
    "    if (not(list_of_numbers)):\n",
    "        return 0\n",
    "    return list_of_numbers[0] + calc_sum(list_of_numbers[1:])"
   ]
  },
  {
   "cell_type": "markdown",
   "metadata": {},
   "source": [
    "calc using reduce"
   ]
  },
  {
   "cell_type": "code",
   "execution_count": null,
   "metadata": {},
   "outputs": [],
   "source": [
    "def calc_sum(list_of_numbers):    \n",
    "    return functools.reduce(lambda a,b: a+b, list_of_numbers)"
   ]
  },
  {
   "cell_type": "markdown",
   "metadata": {},
   "source": [
    "calc using while loop"
   ]
  },
  {
   "cell_type": "code",
   "execution_count": null,
   "metadata": {},
   "outputs": [],
   "source": [
    "def calc_sum(list_of_numbers):\n",
    "    sum = 0\n",
    "    while (list_of_numbers):\n",
    "        sum += list_of_numbers[0]\n",
    "        list_of_numbers = list_of_numbers[1:]\n",
    "    return sum"
   ]
  },
  {
   "cell_type": "markdown",
   "metadata": {},
   "source": [
    "calc using built-in sum method"
   ]
  },
  {
   "cell_type": "code",
   "execution_count": null,
   "metadata": {},
   "outputs": [],
   "source": [
    "def calc_sum(list_of_numbers):\n",
    "    return sum(list_of_numbers)"
   ]
  },
  {
   "cell_type": "markdown",
   "metadata": {},
   "source": [
    "Since we already implemented a sum function, we can use it to calculate the mean"
   ]
  },
  {
   "cell_type": "code",
   "execution_count": null,
   "metadata": {},
   "outputs": [],
   "source": [
    "def calc_mean(list_of_numbers):\n",
    "    return calc_sum(list_of_numbers)/len(list_of_numbers)"
   ]
  },
  {
   "cell_type": "markdown",
   "metadata": {},
   "source": [
    "Use both sum and mean to calculate Standard Deviation"
   ]
  },
  {
   "cell_type": "code",
   "execution_count": null,
   "metadata": {},
   "outputs": [],
   "source": [
    "def calc_std(list_of_numbers):\n",
    "    mean = calc_mean(list_of_numbers)\n",
    "    std_list = [(num - mean) ** 2 for num in list_of_numbers]\n",
    "    return math.sqrt(calc_sum(std_list)/(len(std_list)-1))"
   ]
  },
  {
   "cell_type": "markdown",
   "metadata": {},
   "source": [
    "using numpy it's trivial to implement all 3 functions, just use the built-in numpy methods"
   ]
  },
  {
   "cell_type": "code",
   "execution_count": null,
   "metadata": {},
   "outputs": [],
   "source": [
    "def calc_sum_np(arr):\n",
    "    return np.sum(arr)"
   ]
  },
  {
   "cell_type": "code",
   "execution_count": null,
   "metadata": {},
   "outputs": [],
   "source": [
    "def calc_mean_np(arr):\n",
    "    return np.mean(arr)"
   ]
  },
  {
   "cell_type": "code",
   "execution_count": null,
   "metadata": {},
   "outputs": [],
   "source": [
    "def calc_std_np(arr):\n",
    "    return np.std(arr)"
   ]
  }
 ],
 "metadata": {
  "kernelspec": {
   "display_name": "Python 3 (Spyder)",
   "language": "python3",
   "name": "python3"
  },
  "language_info": {
   "codemirror_mode": {
    "name": "ipython",
    "version": 3
   },
   "file_extension": ".py",
   "mimetype": "text/x-python",
   "name": "python",
   "nbconvert_exporter": "python",
   "pygments_lexer": "ipython3",
   "version": "3.8.8"
  }
 },
 "nbformat": 4,
 "nbformat_minor": 4
}
