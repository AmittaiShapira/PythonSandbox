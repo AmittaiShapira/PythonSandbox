{
 "cells": [
  {
   "cell_type": "code",
   "execution_count": null,
   "id": "9b4d2e7f",
   "metadata": {},
   "outputs": [],
   "source": [
    "# Problem 1 – 15 pts: Calculate sum: function name should be calc_sum \n",
    "# You are given a list of numbers in python. Assume that the list consists of at least one number. \n",
    "# Write a python function that returns the sum of all these numbers. Be sure to write this function \n",
    "# using only python and not an external package, like NumPy."
   ]
  },
  {
   "cell_type": "code",
   "execution_count": 1,
   "id": "d7d26a3d",
   "metadata": {},
   "outputs": [],
   "source": [
    "#calc using for loop\n",
    "def calc_sum(list_of_numbers):\n",
    "    sum = 0\n",
    "    for num in list_of_numbers:\n",
    "        sum += num\n",
    "    return sum"
   ]
  },
  {
   "cell_type": "code",
   "execution_count": 2,
   "id": "81f9b04a",
   "metadata": {},
   "outputs": [],
   "source": [
    "# calc sum using recursion\n",
    "def calc_sum(list_of_numbers):\n",
    "    if (not(list_of_numbers)):\n",
    "        return 0\n",
    "    return list_of_numbers[0] + calc_sum(list_of_numbers[1:])"
   ]
  },
  {
   "cell_type": "code",
   "execution_count": 3,
   "id": "8a59b0b9",
   "metadata": {},
   "outputs": [],
   "source": [
    "# calc using built-in sum method\n",
    "def calc_sum(list_of_numbers):\n",
    "    return sum(list_of_numbers)"
   ]
  },
  {
   "cell_type": "code",
   "execution_count": 4,
   "id": "93e7c896",
   "metadata": {},
   "outputs": [],
   "source": [
    "import functools"
   ]
  },
  {
   "cell_type": "code",
   "execution_count": 5,
   "id": "3a989bd5",
   "metadata": {},
   "outputs": [],
   "source": [
    "# calc sum using reduce\n",
    "def calc_sum(list_of_numbers):\n",
    "    return functools.reduce(lambda a,b: a+b, list_of_numbers)"
   ]
  },
  {
   "cell_type": "code",
   "execution_count": 6,
   "id": "d0bd388f",
   "metadata": {},
   "outputs": [],
   "source": [
    "# calc sum using while loop\n",
    "def calc_sum(list_of_numbers):\n",
    "    sum = 0\n",
    "    while (list_of_numbers):\n",
    "        sum += list_of_numbers[0]\n",
    "        list_of_numbers = list_of_numbers[1:]\n",
    "    return sum"
   ]
  },
  {
   "cell_type": "code",
   "execution_count": 7,
   "id": "f98ed39b",
   "metadata": {},
   "outputs": [],
   "source": [
    "# Problem 2 – 15 pts: Calculate the mean: calc_mean \n",
    "# You are given a list of numbers in python. Assume that the list consists of at least one number. \n",
    "# Write a python function that returns the mean of all these numbers. Be sure to write this function \n",
    "# using only python and not an external package, like NumPy. "
   ]
  },
  {
   "cell_type": "code",
   "execution_count": 8,
   "id": "3140b05b",
   "metadata": {},
   "outputs": [],
   "source": [
    "def calc_mean(list_of_numbers):\n",
    "    return calc_sum(list_of_numbers)/len(list_of_numbers)"
   ]
  },
  {
   "cell_type": "code",
   "execution_count": 9,
   "id": "d9db1bd6",
   "metadata": {},
   "outputs": [],
   "source": [
    "# Problem 3 – 30 pts: Calculate the standard deviation: calc_std \n",
    "# You are given a list of numbers in python. Assume that the list consists of at least two numbers. \n",
    "# Write a python function that returns the sample standard deviation of all these numbers. Be sure \n",
    "# to write this function using only python and not an external package, like NumPy. Below is the \n",
    "# formula is the sample mean. are the data points in the python list/array. \n",
    "# N is the total number of points."
   ]
  },
  {
   "cell_type": "code",
   "execution_count": 10,
   "id": "8910fbbf",
   "metadata": {},
   "outputs": [],
   "source": [
    "import math"
   ]
  },
  {
   "cell_type": "code",
   "execution_count": 11,
   "id": "c0744802",
   "metadata": {},
   "outputs": [],
   "source": [
    "def calc_std(list_of_numbers):\n",
    "    mean = calc_mean(list_of_numbers)\n",
    "    std_list = [(num - mean) ** 2 for num in list_of_numbers]\n",
    "    return math.sqrt(calc_sum(std_list)/(len(std_list)-1))"
   ]
  },
  {
   "cell_type": "code",
   "execution_count": 12,
   "id": "cce37179",
   "metadata": {},
   "outputs": [],
   "source": [
    "import numpy as np"
   ]
  },
  {
   "cell_type": "code",
   "execution_count": 13,
   "id": "f1256f87",
   "metadata": {},
   "outputs": [],
   "source": [
    "# Problem 4 – 10 pts: Calculate sum with NumPy: calc_sum_np \n",
    "# Write a function to compute the sum of a python list of numbers. Be free to use a NumPy \n",
    "# function within your custom function. Same assumptions for inputs as before. "
   ]
  },
  {
   "cell_type": "code",
   "execution_count": 14,
   "id": "b2d6e515",
   "metadata": {},
   "outputs": [],
   "source": [
    "def calc_sum_np(arr):\n",
    "    return np.sum(arr)"
   ]
  },
  {
   "cell_type": "code",
   "execution_count": 15,
   "id": "e9fd7d9d",
   "metadata": {},
   "outputs": [],
   "source": [
    "# Problem 5 – 15 pts: Calculate mean with NumPy: calc_mean_np \n",
    "# Write a function to compute the mean of a python list of numbers. Be free to use a NumPy \n",
    "# function within your custom function. Same assumptions for inputs as before. "
   ]
  },
  {
   "cell_type": "code",
   "execution_count": 16,
   "id": "75272876",
   "metadata": {},
   "outputs": [],
   "source": [
    "def calc_mean_np(arr):\n",
    "    return np.mean(arr)"
   ]
  },
  {
   "cell_type": "code",
   "execution_count": 17,
   "id": "4dc18479",
   "metadata": {},
   "outputs": [],
   "source": [
    "# Problem 6 – 15 pts: Calculate standard deviation with NumPy: calc_std_np \n",
    "# Write a function to compute the sum of a python list of numbers. Be free to use a NumPy \n",
    "# function within your custom function. Same assumptions for inputs as before."
   ]
  },
  {
   "cell_type": "code",
   "execution_count": 18,
   "id": "e888efd4",
   "metadata": {},
   "outputs": [],
   "source": [
    "def calc_std_np(arr):\n",
    "    return np.std(arr)"
   ]
  },
  {
   "cell_type": "code",
   "execution_count": 19,
   "id": "0b0e9d7b",
   "metadata": {},
   "outputs": [],
   "source": [
    "# Unit tests - tests the above methods using the below unittest package"
   ]
  },
  {
   "cell_type": "code",
   "execution_count": 20,
   "id": "b8e8e0c1",
   "metadata": {},
   "outputs": [
    {
     "name": "stderr",
     "output_type": "stream",
     "text": [
      "...........\n",
      "----------------------------------------------------------------------\n",
      "Ran 11 tests in 0.022s\n",
      "\n",
      "OK\n"
     ]
    },
    {
     "data": {
      "text/plain": [
       "<spydercustomize.IPyTesProgram at 0x23406818f70>"
      ]
     },
     "execution_count": 20,
     "metadata": {},
     "output_type": "execute_result"
    }
   ],
   "source": [
    "import unittest\n",
    "\n",
    "class TestWeek2(unittest.TestCase):\n",
    "    def test_calc_sum_one_item(self):\n",
    "        self.assertEqual(1,calc_sum([1]))\n",
    "    def test_calc_sum_multiple_items(self):\n",
    "        self.assertEqual(2, calc_sum([1,1]))\n",
    "        self.assertEqual(45, calc_sum(range(1,10)))\n",
    "    def test_calc_mean(self):\n",
    "        self.assertEqual(5, calc_mean(range(1,10)))\n",
    "    def test_calc_mean_int(self):\n",
    "        self.assertEqual(2, calc_mean(range(1,4)))\n",
    "    def test_calc_mean_float(self):\n",
    "        self.assertEqual(2.5, calc_mean(range(1,5)))\n",
    "    def test_std_same_numbers(self):\n",
    "        self.assertEqual(0, calc_std([1,1,1,1,1]))\n",
    "    def test_std_range(self):\n",
    "        self.assertAlmostEqual(2.449489743, calc_std(range(1,9)),)\n",
    "    def test_calc_sum_one_item_np(self):\n",
    "        self.assertEqual(1,calc_sum_np(np.array([1])))\n",
    "    def test_calc_sum_multiple_items_np(self):\n",
    "        self.assertEqual(2, calc_sum_np(np.array([1,1])))\n",
    "        self.assertEqual(45, calc_sum_np(np.array(range(1,10))))\n",
    "    def test_std_same_numbers_np(self):\n",
    "        self.assertEqual(0, calc_std_np(np.array([1,1,1,1,1])))\n",
    "    def test_std_range_np(self):\n",
    "        # np.std calculates standard divation value similar to Excel's STDEV.P\n",
    "        self.assertAlmostEqual(2.291287847, calc_std_np(np.array(range(1,9))),)\n",
    "\n",
    "\n",
    "# running the tests\n",
    "unittest.main()"
   ]
  }
 ],
 "metadata": {
  "kernelspec": {
   "display_name": "Python 3 (Spyder)",
   "language": "python3",
   "name": "python3"
  },
  "language_info": {
   "codemirror_mode": {
    "name": "ipython",
    "version": 3
   },
   "file_extension": ".py",
   "mimetype": "text/x-python",
   "name": "python",
   "nbconvert_exporter": "python",
   "pygments_lexer": "ipython3",
   "version": "3.8.8"
  }
 },
 "nbformat": 4,
 "nbformat_minor": 5
}
